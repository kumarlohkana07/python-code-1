{
 "cells": [
  {
   "cell_type": "code",
   "execution_count": null,
   "id": "e2683f28-8ecc-4c87-b362-5a6cc0329d87",
   "metadata": {},
   "outputs": [],
   "source": [
    "Question = 1"
   ]
  },
  {
   "cell_type": "code",
   "execution_count": null,
   "id": "37985e32-3051-4dd5-9274-38e5f8f4a2e4",
   "metadata": {},
   "outputs": [],
   "source": [
    "In python you can comment code using the # symbol for single line comments . For multi line comments ,you can enclose the text with in triple quotes (''' or \"\"\")."
   ]
  },
  {
   "cell_type": "code",
   "execution_count": null,
   "id": "ad04cd45-d2b3-43b7-ad6b-808c2d05b057",
   "metadata": {},
   "outputs": [],
   "source": [
    "there are two types of comments \n",
    "1 sinle-line comments\n",
    "2 multi-line comments\n",
    "for example\n",
    "# this is a single-line comments\n",
    "''' this is a multi-line comments'''\n",
    "\"\"\" this is also a multi-line comments\"\"\""
   ]
  },
  {
   "cell_type": "code",
   "execution_count": null,
   "id": "3d45da87-7371-4640-8c30-a27778d413f2",
   "metadata": {},
   "outputs": [],
   "source": [
    "Question = 2"
   ]
  },
  {
   "cell_type": "code",
   "execution_count": null,
   "id": "4ca449ee-771f-4c3c-afc4-f09e282d4bd8",
   "metadata": {},
   "outputs": [],
   "source": [
    "In python, variables are used to store data values. They act as placeholders for various types of data such as numbers, strings,lists or objects. you can assign values to variables using the assignment operators = . here's a simple examples:"
   ]
  },
  {
   "cell_type": "code",
   "execution_count": null,
   "id": "8f0be73c-2256-4c74-9408-39145a8f3281",
   "metadata": {},
   "outputs": [],
   "source": [
    "x = 5 # here, 'x' is a vriable storing the integer value 5 \n",
    "name = \"john\" # 'name' is a vriable storing the string \"john\""
   ]
  },
  {
   "cell_type": "code",
   "execution_count": null,
   "id": "80913f23-c93f-4812-b0f8-da12c522c157",
   "metadata": {},
   "outputs": [],
   "source": [
    "In python, you declare and assign values to variables in a straightforward manner using the assignment operator = . here's how you do it :"
   ]
  },
  {
   "cell_type": "code",
   "execution_count": null,
   "id": "0f1c4e12-f29b-44ea-84e3-ed98e7622c31",
   "metadata": {},
   "outputs": [],
   "source": [
    "# declaring and assigning a value to a variable \n",
    "x = 5 \n",
    "# you can also assign values to multiples variables in a single lines \n",
    "y, z = 10, \"hello\"\n",
    "# printing the variables to see their values \n",
    "print (x) # output : 5 \n",
    "print (y) # output : 10\n",
    "print (z) # output : hello"
   ]
  },
  {
   "cell_type": "code",
   "execution_count": null,
   "id": "dec5e98b-e798-44b1-ad6e-0cf5cf9a49bc",
   "metadata": {},
   "outputs": [],
   "source": [
    "Question = 3"
   ]
  },
  {
   "cell_type": "code",
   "execution_count": null,
   "id": "b867d92a-5098-4ad0-a37b-4467ffac96af",
   "metadata": {},
   "outputs": [],
   "source": [
    "# converting to integer \n",
    "x = int(\"5\")\n",
    "print(x) # output : 5\n",
    "\n",
    "# converting to float\n",
    "y = float(\"3.13\")\n",
    "print(y) # output : 3.13\n",
    "\n",
    "# converting to string\n",
    "z = str(123)\n",
    "print(z) # output : \"123\""
   ]
  },
  {
   "cell_type": "code",
   "execution_count": null,
   "id": "34f296f5-f549-45d6-8b58-3eff7f1a9ae6",
   "metadata": {},
   "outputs": [],
   "source": [
    "Question = 4 "
   ]
  },
  {
   "cell_type": "code",
   "execution_count": null,
   "id": "f02165f0-0c0a-4211-a079-049b06811aa0",
   "metadata": {},
   "outputs": [],
   "source": [
    "To write and execute a python script from the command line,  follows these steps \n",
    "1 write the python script\n",
    "2 write your pyhton code \n",
    " # myscript.py\n",
    "    print(\"hello,world!\")\n",
    "3 save the script file\n",
    "4 open the command line \n",
    "5 navigate to the directory\n",
    " cd documents \n",
    "6 execute the script \n",
    "  python myscript.py \n",
    "    hello,world!\n",
    "    \n",
    "Thats it you have written and executed a python scripts from the command line. "
   ]
  },
  {
   "cell_type": "code",
   "execution_count": null,
   "id": "cf4825fd-c7ed-4d46-be47-1c625b64f313",
   "metadata": {},
   "outputs": [],
   "source": [
    "Question = 5 "
   ]
  },
  {
   "cell_type": "code",
   "execution_count": null,
   "id": "7dd2985f-3588-42dd-a3f9-2a7ebc5f0e4b",
   "metadata": {},
   "outputs": [],
   "source": [
    "my_list = [ 1,2,3,4,5]\n",
    "# slice the list to obtain a sub-list\n",
    "sub_list = my_list[1:3] #slicing frome index 2 (inclusive) to index 3 (exclusive)\n",
    "\n",
    "# print the sub-list\n",
    "print(sub_list) # output: [2, 3]"
   ]
  },
  {
   "cell_type": "code",
   "execution_count": null,
   "id": "8ed569a0-5380-4761-9f75-29e2f277cbbb",
   "metadata": {},
   "outputs": [],
   "source": [
    "Question  = 6 "
   ]
  },
  {
   "cell_type": "code",
   "execution_count": null,
   "id": "de37ad72-658f-489b-8c21-1d5ea5bec1b9",
   "metadata": {},
   "outputs": [],
   "source": [
    "In mathematics, a complex number is a number that comprises a real part and imaginary part .\n",
    "it is typically represented in the form :\n",
    "    a+bi\n",
    "    where : \n",
    "        a is real part\n",
    "        b is a imaginary part \n",
    "        i is imaginary unit"
   ]
  },
  {
   "cell_type": "code",
   "execution_count": null,
   "id": "80b9f1a3-9001-41cf-a209-6369134f4cf3",
   "metadata": {},
   "outputs": [],
   "source": [
    "# using complex () function\n",
    "z1 = complex(3,2) # 3+2i\n",
    "print(z1) # output : (3+2j)\n",
    "\n",
    "# directly specifying real and imaginary parts \n",
    "z2 = 4+5j # 4+5i\n",
    "print(z2) # output : (4+5j)\n",
    "\n",
    "in python , the iamginary unit is denoted by j instead of i."
   ]
  },
  {
   "cell_type": "code",
   "execution_count": null,
   "id": "355dd44a-f866-4e5c-94c0-7f8642f31ea4",
   "metadata": {},
   "outputs": [],
   "source": [
    "Question = 7"
   ]
  },
  {
   "cell_type": "code",
   "execution_count": null,
   "id": "867117ff-93c4-47b3-8e47-f2e0fbf13915",
   "metadata": {},
   "outputs": [],
   "source": [
    "The correct way to declare a variable named age and assign the values 25 to it in python is : "
   ]
  },
  {
   "cell_type": "code",
   "execution_count": null,
   "id": "5921104c-2cdf-4d2a-a283-e9e925108753",
   "metadata": {},
   "outputs": [],
   "source": [
    "age = 25"
   ]
  },
  {
   "cell_type": "code",
   "execution_count": null,
   "id": "ef7d42f4-6c8d-474d-bf8f-0e3d2c488aaf",
   "metadata": {},
   "outputs": [],
   "source": [
    "this single line of code declares a variables named age and assigns the integer values 25 to it "
   ]
  },
  {
   "cell_type": "code",
   "execution_count": null,
   "id": "5f4c9640-484c-4e4f-9682-9904bb6547ac",
   "metadata": {},
   "outputs": [],
   "source": [
    "Question = 8"
   ]
  },
  {
   "cell_type": "code",
   "execution_count": null,
   "id": "44ca6cc6-191d-4a52-8091-7e7beda8ff5f",
   "metadata": {},
   "outputs": [],
   "source": [
    "to declare a variable named price and assign the values 9.99 to it in python, you would do : "
   ]
  },
  {
   "cell_type": "code",
   "execution_count": null,
   "id": "920aa966-5864-4279-b3f5-8c60f904312b",
   "metadata": {},
   "outputs": [],
   "source": [
    "price = 9.99"
   ]
  },
  {
   "cell_type": "code",
   "execution_count": null,
   "id": "a7aee37b-8f0c-43ce-a041-1501ae9fcedd",
   "metadata": {},
   "outputs": [],
   "source": [
    "in python, this variable belongs to the data type float. a float represents a floatint-point number, which is a number that hase a decimal point. so, price is of type float because it stores a decimal number. "
   ]
  },
  {
   "cell_type": "code",
   "execution_count": null,
   "id": "21687fff-3a73-472f-b2bd-f4d0f1f907c8",
   "metadata": {},
   "outputs": [],
   "source": [
    "Question = 9 "
   ]
  },
  {
   "cell_type": "code",
   "execution_count": null,
   "id": "a4fb7f5b-d8b3-4de3-8227-b69df2ccc7da",
   "metadata": {},
   "outputs": [],
   "source": [
    "To create a variable named name and assign my full name to it as a string , i would do :"
   ]
  },
  {
   "cell_type": "code",
   "execution_count": null,
   "id": "06394e7e-f7ea-4f43-a8d4-9c1ccfc08b99",
   "metadata": {},
   "outputs": [],
   "source": [
    "name =  \"vishnu kumar lohkana\""
   ]
  },
  {
   "cell_type": "code",
   "execution_count": null,
   "id": "c99cc566-886b-47b3-b04a-c871f7b97134",
   "metadata": {},
   "outputs": [],
   "source": [
    "to print the value of this variables, i would use the print () function :"
   ]
  },
  {
   "cell_type": "code",
   "execution_count": null,
   "id": "949f3c78-6ce4-4d76-9448-50822b1b4510",
   "metadata": {},
   "outputs": [],
   "source": [
    "print(name)"
   ]
  },
  {
   "cell_type": "code",
   "execution_count": null,
   "id": "2b08ee93-f7ef-4acb-88a0-4d13465ff849",
   "metadata": {},
   "outputs": [],
   "source": [
    "this would output : "
   ]
  },
  {
   "cell_type": "code",
   "execution_count": null,
   "id": "e1d98f87-a67d-426e-a453-5abcbfee61f4",
   "metadata": {},
   "outputs": [],
   "source": [
    "vishnu kumar lohkana"
   ]
  },
  {
   "cell_type": "code",
   "execution_count": null,
   "id": "094b683a-1aeb-4a8d-8430-66c91c4cd894",
   "metadata": {},
   "outputs": [],
   "source": [
    "Question = 10"
   ]
  },
  {
   "cell_type": "code",
   "execution_count": null,
   "id": "3cf0ff05-ab30-450a-8f75-00786adedf85",
   "metadata": {},
   "outputs": [],
   "source": [
    "# given string \n",
    "my_string = \"hello, world!\"\n",
    "\n",
    "# extracting the substring \"world\"\n",
    "substring = my_string[7:] \n",
    "print(substring) # output : world"
   ]
  },
  {
   "cell_type": "code",
   "execution_count": null,
   "id": "40807376-fb88-4d3c-8035-b23fb6b5871c",
   "metadata": {},
   "outputs": [],
   "source": [
    "Question = 11 "
   ]
  },
  {
   "cell_type": "code",
   "execution_count": null,
   "id": "75580f22-102e-4d08-ab99-473db8a8a26c",
   "metadata": {},
   "outputs": [],
   "source": [
    "To ceate a variable named is_student and assign it a boolean value indicating whether i am currently a student or not, i would do :"
   ]
  },
  {
   "cell_type": "code",
   "execution_count": null,
   "id": "170d2ce8-33e4-499b-8c73-8c5a7812271e",
   "metadata": {},
   "outputs": [],
   "source": [
    "is_student = false # assuming i'm not currently a student "
   ]
  },
  {
   "cell_type": "code",
   "execution_count": null,
   "id": "7dd73735-e329-40fb-87a1-8fbdccae639f",
   "metadata": {},
   "outputs": [],
   "source": [
    "If i were currently a student, i would assign true to the variable is_student."
   ]
  }
 ],
 "metadata": {
  "kernelspec": {
   "display_name": "Python 3 (ipykernel)",
   "language": "python",
   "name": "python3"
  },
  "language_info": {
   "codemirror_mode": {
    "name": "ipython",
    "version": 3
   },
   "file_extension": ".py",
   "mimetype": "text/x-python",
   "name": "python",
   "nbconvert_exporter": "python",
   "pygments_lexer": "ipython3",
   "version": "3.10.8"
  }
 },
 "nbformat": 4,
 "nbformat_minor": 5
}
